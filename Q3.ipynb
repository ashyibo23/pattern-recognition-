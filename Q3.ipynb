{
  "nbformat": 4,
  "nbformat_minor": 0,
  "metadata": {
    "colab": {
      "name": "Q3.ipynb",
      "provenance": [],
      "authorship_tag": "ABX9TyO1q2xLxLU4GtFz7ow3BGo5",
      "include_colab_link": true
    },
    "kernelspec": {
      "name": "python3",
      "display_name": "Python 3"
    }
  },
  "cells": [
    {
      "cell_type": "markdown",
      "metadata": {
        "id": "view-in-github",
        "colab_type": "text"
      },
      "source": [
        "<a href=\"https://colab.research.google.com/github/ashyibo23/pattern-recognition-/blob/main/Q3.ipynb\" target=\"_parent\"><img src=\"https://colab.research.google.com/assets/colab-badge.svg\" alt=\"Open In Colab\"/></a>"
      ]
    },
    {
      "cell_type": "code",
      "metadata": {
        "colab": {
          "base_uri": "https://localhost:8080/"
        },
        "id": "8Sx6inGK_4MJ",
        "outputId": "4edb61ac-fea8-4747-aa37-7163ae68f9af"
      },
      "source": [
        "import numpy as np\n",
        "from prettytable import PrettyTable\n",
        "\n",
        "# load iris dataset\n",
        "# -----------------------------------------\n",
        "from sklearn import datasets\n",
        "iris = datasets.load_iris()\n",
        "\n",
        "# sample test data\n",
        "# -----------------------------------------\n",
        "sample = np.array([\n",
        "    [6.6, 2.9, 1.3, 2.4],\n",
        "    [4.7, 3.8, 3.0, 0.2],\n",
        "    [4.5, 2.1, 4.1, 1.4],\n",
        "    [5.0, 2.6, 4.5, 1.4],\n",
        "    [7.0, 3.5, 4.9, 0.6]])\n",
        "\n",
        "\n",
        "# S_test\n",
        "\n",
        "# sklearn\n",
        "# -----------------------------------------\n",
        "from sklearn.model_selection import train_test_split\n",
        "from sklearn.neighbors import KNeighborsClassifier\n",
        "from sklearn.metrics import classification_report, confusion_matrix, accuracy_score\n",
        "\n",
        "# split training dataset\n",
        "X_train, X_test, Y_train, Y_test = train_test_split(iris.data, iris.target, test_size=0.2)\n",
        "\n",
        "# training and predictions\n",
        "classifier = KNeighborsClassifier(n_neighbors=5, metric='euclidean')\n",
        "classifier.fit(X_train, Y_train)\n",
        "\n",
        "# evaluate\n",
        "# Y_prediction = classifier.predict(X_test)\n",
        "# print(confusion_matrix(Y_test, Y_prediction))\n",
        "# print(classification_report(Y_test, Y_prediction))\n",
        "# print(accuracy_score(Y_test, Y_prediction))\n",
        "\n",
        "# sample classification\n",
        "# -----------------------------------------\n",
        "Y_prediction = classifier.predict(sample)\n",
        "# print(Y_prediction)\n",
        "\n",
        "# prettytable\n",
        "# -----------------------------------------------------------\n",
        "pt = PrettyTable(('sample', 'class'))\n",
        "for row in list(zip(np.round(sample, 5), Y_prediction)): pt.add_row(row)\n",
        "\n",
        "pt.align['sample'] = 'l'\n",
        "pt.align['class'] = 'c'\n",
        "\n",
        "print(pt)"
      ],
      "execution_count": null,
      "outputs": [
        {
          "output_type": "stream",
          "text": [
            "+-------------------+-------+\n",
            "| sample            | class |\n",
            "+-------------------+-------+\n",
            "| [6.6 2.9 1.3 2.4] |   0   |\n",
            "| [4.7 3.8 3.  0.2] |   0   |\n",
            "| [4.5 2.1 4.1 1.4] |   1   |\n",
            "| [5.  2.6 4.5 1.4] |   1   |\n",
            "| [7.  3.5 4.9 0.6] |   1   |\n",
            "+-------------------+-------+\n"
          ],
          "name": "stdout"
        }
      ]
    },
    {
      "cell_type": "code",
      "metadata": {
        "colab": {
          "base_uri": "https://localhost:8080/"
        },
        "id": "4Li9XIJ9J6v_",
        "outputId": "0358a745-b317-49ed-83f4-de9bc056b2d6"
      },
      "source": [
        "classifier.fit(X_train, Y_train)\n",
        "\n"
      ],
      "execution_count": null,
      "outputs": [
        {
          "output_type": "execute_result",
          "data": {
            "text/plain": [
              "KNeighborsClassifier(algorithm='auto', leaf_size=30, metric='euclidean',\n",
              "                     metric_params=None, n_jobs=None, n_neighbors=1, p=2,\n",
              "                     weights='uniform')"
            ]
          },
          "metadata": {
            "tags": []
          },
          "execution_count": 2
        }
      ]
    },
    {
      "cell_type": "code",
      "metadata": {
        "colab": {
          "base_uri": "https://localhost:8080/"
        },
        "id": "3GjBtOa0Efzt",
        "outputId": "0dbad6dd-6274-4a8f-8bc5-401690e64e91"
      },
      "source": [
        "print(iris.feature_names)"
      ],
      "execution_count": null,
      "outputs": [
        {
          "output_type": "stream",
          "text": [
            "['sepal length (cm)', 'sepal width (cm)', 'petal length (cm)', 'petal width (cm)']\n"
          ],
          "name": "stdout"
        }
      ]
    },
    {
      "cell_type": "code",
      "metadata": {
        "colab": {
          "base_uri": "https://localhost:8080/"
        },
        "id": "bZeV9qHS4Jel",
        "outputId": "2c61a6db-5b31-4851-aca1-a652c0829575"
      },
      "source": [
        "iris.target"
      ],
      "execution_count": null,
      "outputs": [
        {
          "output_type": "execute_result",
          "data": {
            "text/plain": [
              "array([0, 0, 0, 0, 0, 0, 0, 0, 0, 0, 0, 0, 0, 0, 0, 0, 0, 0, 0, 0, 0, 0,\n",
              "       0, 0, 0, 0, 0, 0, 0, 0, 0, 0, 0, 0, 0, 0, 0, 0, 0, 0, 0, 0, 0, 0,\n",
              "       0, 0, 0, 0, 0, 0, 1, 1, 1, 1, 1, 1, 1, 1, 1, 1, 1, 1, 1, 1, 1, 1,\n",
              "       1, 1, 1, 1, 1, 1, 1, 1, 1, 1, 1, 1, 1, 1, 1, 1, 1, 1, 1, 1, 1, 1,\n",
              "       1, 1, 1, 1, 1, 1, 1, 1, 1, 1, 1, 1, 2, 2, 2, 2, 2, 2, 2, 2, 2, 2,\n",
              "       2, 2, 2, 2, 2, 2, 2, 2, 2, 2, 2, 2, 2, 2, 2, 2, 2, 2, 2, 2, 2, 2,\n",
              "       2, 2, 2, 2, 2, 2, 2, 2, 2, 2, 2, 2, 2, 2, 2, 2, 2, 2])"
            ]
          },
          "metadata": {
            "tags": []
          },
          "execution_count": 4
        }
      ]
    },
    {
      "cell_type": "code",
      "metadata": {
        "colab": {
          "base_uri": "https://localhost:8080/"
        },
        "id": "nmGJucAq4Pm7",
        "outputId": "bb782041-c3a9-4ef8-9659-1dbdcf2200e4"
      },
      "source": [
        "print(iris.target_names)\n"
      ],
      "execution_count": null,
      "outputs": [
        {
          "output_type": "stream",
          "text": [
            "['setosa' 'versicolor' 'virginica']\n"
          ],
          "name": "stdout"
        }
      ]
    },
    {
      "cell_type": "code",
      "metadata": {
        "id": "-L35Y3qA4UDZ",
        "colab": {
          "base_uri": "https://localhost:8080/"
        },
        "outputId": "3acd488a-72e6-4d97-a53d-93575d1bc32a"
      },
      "source": [
        "X = iris.data\n",
        "y = iris.target\n",
        "from sklearn.neighbors import KNeighborsClassifier\n",
        "from sklearn.model_selection import train_test_split\n",
        "X_train, X_test, Y_train, Y_test = train_test_split(X, y, test_size=0.2, random_state= 4)\n",
        "\n",
        "\n",
        "\n",
        "\n",
        "knn = KNeighborsClassifier(n_neighbors=5)\n",
        "knn.fit(X, y)\n",
        "\n",
        "y_predict = knn.predict(sample)\n",
        "print(y_predict)\n"
      ],
      "execution_count": null,
      "outputs": [
        {
          "output_type": "stream",
          "text": [
            "[0 0 1 1 1]\n"
          ],
          "name": "stdout"
        }
      ]
    },
    {
      "cell_type": "code",
      "metadata": {
        "colab": {
          "base_uri": "https://localhost:8080/"
        },
        "id": "YnFzG3U37z9t",
        "outputId": "f8f8a090-26ae-4812-a988-3d344e97b497"
      },
      "source": [
        "print(X_train.shape)\n",
        "print(X_test.shape)"
      ],
      "execution_count": null,
      "outputs": [
        {
          "output_type": "stream",
          "text": [
            "(120, 4)\n",
            "(30, 4)\n"
          ],
          "name": "stdout"
        }
      ]
    },
    {
      "cell_type": "code",
      "metadata": {
        "colab": {
          "base_uri": "https://localhost:8080/"
        },
        "id": "v9jHA7QP8NHc",
        "outputId": "e5fa8271-7325-4e48-978e-b6dabec4aa38"
      },
      "source": [
        "print(Y_train.shape)\n",
        "print(Y_test.shape)"
      ],
      "execution_count": null,
      "outputs": [
        {
          "output_type": "stream",
          "text": [
            "(120,)\n",
            "(30,)\n"
          ],
          "name": "stdout"
        }
      ]
    },
    {
      "cell_type": "code",
      "metadata": {
        "colab": {
          "base_uri": "https://localhost:8080/"
        },
        "id": "mAIm2-aF8mbL",
        "outputId": "7eea2c67-5dd8-433f-c18a-4a4f24fb4d21"
      },
      "source": [
        "knn = KNeighborsClassifier(n_neighbors=5)\n",
        "knn.fit(X, y)"
      ],
      "execution_count": null,
      "outputs": [
        {
          "output_type": "execute_result",
          "data": {
            "text/plain": [
              "KNeighborsClassifier(algorithm='auto', leaf_size=30, metric='minkowski',\n",
              "                     metric_params=None, n_jobs=None, n_neighbors=5, p=2,\n",
              "                     weights='uniform')"
            ]
          },
          "metadata": {
            "tags": []
          },
          "execution_count": 14
        }
      ]
    },
    {
      "cell_type": "code",
      "metadata": {
        "colab": {
          "base_uri": "https://localhost:8080/"
        },
        "id": "oLJZ91j09bLk",
        "outputId": "78eec01f-4311-43fa-9972-b78e9bcecb2d"
      },
      "source": [
        "\n",
        "y_predict = knn.predict(sample)\n",
        "print(y_predict)"
      ],
      "execution_count": null,
      "outputs": [
        {
          "output_type": "stream",
          "text": [
            "[0 0 1 1 1]\n"
          ],
          "name": "stdout"
        }
      ]
    }
  ]
}